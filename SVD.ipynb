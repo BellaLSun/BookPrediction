{
 "cells": [
  {
   "cell_type": "markdown",
   "metadata": {},
   "source": [
    "## SVD "
   ]
  },
  {
   "cell_type": "markdown",
   "metadata": {},
   "source": [
    "https://my.oschina.net/u/1462678/blog/893835"
   ]
  },
  {
   "cell_type": "markdown",
   "metadata": {},
   "source": [
    "A = U*S*V’\n",
    "\n",
    "其中S=diag(σ i ,σ 2 ,……,σ r )，**σ i >0**  (i=1,…,r)，**r=rank(A)** 。"
   ]
  },
  {
   "cell_type": "markdown",
   "metadata": {},
   "source": [
    "- 第一个矩阵X中的每一行表示意思相关的一类词，其中的每个非零元素表示这类词中每个词的重要性（或者说相关性），数值越大越相关。\n",
    "- 最后一个矩阵Y中每一列表示同一主题一类文章，其中每个元素表示这类文章中每篇文章的相关性。\n",
    "- 中间的矩阵则表示类词和文章雷之间的相关性。因此，我们只要对关联矩阵A进行一次奇异值分解，我们就可以同时完成近义词分类和文章的分类。（**同时得到每类文章和每类词的相关性**）。\n",
    "- 这个矩阵很**稀疏**，所以要求**满秩分解**。\n"
   ]
  },
  {
   "cell_type": "markdown",
   "metadata": {},
   "source": [
    "<img src='https://static.oschina.net/uploads/img/201705/06144126_Wrnk.jpg'>"
   ]
  },
  {
   "cell_type": "markdown",
   "metadata": {},
   "source": [
    "**将这个矩阵进行SVD，得到下面的矩阵：**"
   ]
  },
  {
   "cell_type": "markdown",
   "metadata": {},
   "source": [
    "<img src='https://static.oschina.net/uploads/img/201705/06144126_ofVI.jpg'>"
   ]
  },
  {
   "cell_type": "markdown",
   "metadata": {},
   "source": [
    "**左奇异向量表示“词”的一些特性，右奇异向量表示“文档”的一些特性，中间的奇异值矩阵表示左奇异向量的”一行“与右奇异向量的“一列”的重要程序，数字越大越重要。**\n"
   ]
  },
  {
   "cell_type": "markdown",
   "metadata": {},
   "source": [
    "- 左奇异向量的第一列表示**每一篇文档中**每一个词的出现频繁程度,但不是线性的\n",
    "- 右奇异向量中的第一行表示**每一篇文档**中出现的属于该topic的词的个数的近似。在原始矩阵中，我们知道每个Topic中都包含哪些词\n",
    "- 将原来words与topic的矩阵，分解为words in document 和 topic words in documents，和他们之间关系的3个矩阵"
   ]
  },
  {
   "cell_type": "markdown",
   "metadata": {},
   "source": [
    "### 针对评分预测的真实含义"
   ]
  },
  {
   "cell_type": "markdown",
   "metadata": {},
   "source": [
    "- 用户u和每个特征的关系\n",
    "- 物品i和每个特征的关系\n",
    "- 预测用户u对物品i的得分\n",
    "- 其中，特征是我们并不知道具体有几个，到底是什么。好比user有的喜欢字少的，有的就是喜欢那家店，等等，我们是无法认为定义和分出来的，类似“隐语义”。"
   ]
  },
  {
   "cell_type": "markdown",
   "metadata": {},
   "source": [
    "## SVD & NMF"
   ]
  },
  {
   "cell_type": "markdown",
   "metadata": {},
   "source": [
    "- PCA与NMF都是矩阵降维\n",
    "- SVD是矩阵分解，得到3个矩阵相乘，有明确的含义"
   ]
  },
  {
   "cell_type": "markdown",
   "metadata": {},
   "source": [
    "## Surprise"
   ]
  },
  {
   "cell_type": "markdown",
   "metadata": {},
   "source": [
    "https://github.com/NicolasHug/Surprise"
   ]
  },
  {
   "cell_type": "code",
   "execution_count": 3,
   "metadata": {},
   "outputs": [],
   "source": [
    "import pandas as pd\n",
    "from surprise import SVDpp, Reader, Dataset"
   ]
  },
  {
   "cell_type": "code",
   "execution_count": 4,
   "metadata": {},
   "outputs": [],
   "source": [
    "## load data\n",
    "user_data = pd.read_csv('User Data.csv')"
   ]
  },
  {
   "cell_type": "code",
   "execution_count": 5,
   "metadata": {},
   "outputs": [
    {
     "data": {
      "text/html": [
       "<div>\n",
       "<style scoped>\n",
       "    .dataframe tbody tr th:only-of-type {\n",
       "        vertical-align: middle;\n",
       "    }\n",
       "\n",
       "    .dataframe tbody tr th {\n",
       "        vertical-align: top;\n",
       "    }\n",
       "\n",
       "    .dataframe thead th {\n",
       "        text-align: right;\n",
       "    }\n",
       "</style>\n",
       "<table border=\"1\" class=\"dataframe\">\n",
       "  <thead>\n",
       "    <tr style=\"text-align: right;\">\n",
       "      <th></th>\n",
       "      <th>User ID</th>\n",
       "      <th>User Read Books (2017)</th>\n",
       "      <th>Average Rating (2017)</th>\n",
       "    </tr>\n",
       "  </thead>\n",
       "  <tbody>\n",
       "    <tr>\n",
       "      <th>0</th>\n",
       "      <td>ID790145788</td>\n",
       "      <td>6254</td>\n",
       "      <td>3.115447</td>\n",
       "    </tr>\n",
       "    <tr>\n",
       "      <th>1</th>\n",
       "      <td>ID646234447</td>\n",
       "      <td>5854, 5676, 7265, 6051</td>\n",
       "      <td>3.157876</td>\n",
       "    </tr>\n",
       "    <tr>\n",
       "      <th>2</th>\n",
       "      <td>ID86918707</td>\n",
       "      <td>5815</td>\n",
       "      <td>1.512284</td>\n",
       "    </tr>\n",
       "    <tr>\n",
       "      <th>3</th>\n",
       "      <td>ID404262345</td>\n",
       "      <td>6969, 7002, 5761</td>\n",
       "      <td>3.641681</td>\n",
       "    </tr>\n",
       "    <tr>\n",
       "      <th>4</th>\n",
       "      <td>ID267634255</td>\n",
       "      <td>7908, 7585, 7655, 5013, 5352, 7753, 5793</td>\n",
       "      <td>2.506743</td>\n",
       "    </tr>\n",
       "  </tbody>\n",
       "</table>\n",
       "</div>"
      ],
      "text/plain": [
       "       User ID                    User Read Books (2017)  \\\n",
       "0  ID790145788                                      6254   \n",
       "1  ID646234447                    5854, 5676, 7265, 6051   \n",
       "2   ID86918707                                      5815   \n",
       "3  ID404262345                          6969, 7002, 5761   \n",
       "4  ID267634255  7908, 7585, 7655, 5013, 5352, 7753, 5793   \n",
       "\n",
       "   Average Rating (2017)  \n",
       "0               3.115447  \n",
       "1               3.157876  \n",
       "2               1.512284  \n",
       "3               3.641681  \n",
       "4               2.506743  "
      ]
     },
     "execution_count": 5,
     "metadata": {},
     "output_type": "execute_result"
    }
   ],
   "source": [
    "## train set\n",
    "train_df = user_data[['User ID', 'User Read Books (2017)', 'Average Rating (2017)']]\n",
    "train_df.head()"
   ]
  },
  {
   "cell_type": "code",
   "execution_count": 6,
   "metadata": {},
   "outputs": [],
   "source": [
    "# 将read books拆开，与ID形成对应。\n",
    "train_ar = [[a[0], int(b), float(a[2])] for a in train_df.values for b in a[1].split(', ')]\n",
    "user_book_rate = pd.DataFrame(train_ar, columns=train_df.columns)"
   ]
  },
  {
   "cell_type": "code",
   "execution_count": 8,
   "metadata": {},
   "outputs": [
    {
     "data": {
      "text/html": [
       "<div>\n",
       "<style scoped>\n",
       "    .dataframe tbody tr th:only-of-type {\n",
       "        vertical-align: middle;\n",
       "    }\n",
       "\n",
       "    .dataframe tbody tr th {\n",
       "        vertical-align: top;\n",
       "    }\n",
       "\n",
       "    .dataframe thead th {\n",
       "        text-align: right;\n",
       "    }\n",
       "</style>\n",
       "<table border=\"1\" class=\"dataframe\">\n",
       "  <thead>\n",
       "    <tr style=\"text-align: right;\">\n",
       "      <th></th>\n",
       "      <th>User ID</th>\n",
       "      <th>User Read Books (2017)</th>\n",
       "      <th>Average Rating (2017)</th>\n",
       "    </tr>\n",
       "  </thead>\n",
       "  <tbody>\n",
       "    <tr>\n",
       "      <th>0</th>\n",
       "      <td>ID790145788</td>\n",
       "      <td>6254</td>\n",
       "      <td>3.115447</td>\n",
       "    </tr>\n",
       "    <tr>\n",
       "      <th>1</th>\n",
       "      <td>ID646234447</td>\n",
       "      <td>5854</td>\n",
       "      <td>3.157876</td>\n",
       "    </tr>\n",
       "    <tr>\n",
       "      <th>2</th>\n",
       "      <td>ID646234447</td>\n",
       "      <td>5676</td>\n",
       "      <td>3.157876</td>\n",
       "    </tr>\n",
       "    <tr>\n",
       "      <th>3</th>\n",
       "      <td>ID646234447</td>\n",
       "      <td>7265</td>\n",
       "      <td>3.157876</td>\n",
       "    </tr>\n",
       "    <tr>\n",
       "      <th>4</th>\n",
       "      <td>ID646234447</td>\n",
       "      <td>6051</td>\n",
       "      <td>3.157876</td>\n",
       "    </tr>\n",
       "  </tbody>\n",
       "</table>\n",
       "</div>"
      ],
      "text/plain": [
       "       User ID  User Read Books (2017)  Average Rating (2017)\n",
       "0  ID790145788                    6254               3.115447\n",
       "1  ID646234447                    5854               3.157876\n",
       "2  ID646234447                    5676               3.157876\n",
       "3  ID646234447                    7265               3.157876\n",
       "4  ID646234447                    6051               3.157876"
      ]
     },
     "execution_count": 8,
     "metadata": {},
     "output_type": "execute_result"
    }
   ],
   "source": [
    "# Y是平均评分，因为不是真实评分，所以不是很准确\n",
    "user_book_rate.head()"
   ]
  },
  {
   "cell_type": "markdown",
   "metadata": {},
   "source": [
    "- https://surprise.readthedocs.io/en/stable/reader.html\n",
    "- The Reader class is used to **parse a file containing ratings**.\n",
    "- each line needs to respect the following structure: **user ; item ; rating ; [timestamp]**"
   ]
  },
  {
   "cell_type": "markdown",
   "metadata": {},
   "source": [
    "### model and training"
   ]
  },
  {
   "cell_type": "code",
   "execution_count": 23,
   "metadata": {},
   "outputs": [
    {
     "data": {
      "text/plain": [
       "<surprise.dataset.DatasetAutoFolds at 0x11279bcc0>"
      ]
     },
     "execution_count": 23,
     "metadata": {},
     "output_type": "execute_result"
    }
   ],
   "source": [
    "reader = Reader(rating_scale=(0, 10))\n",
    "data = Dataset.load_from_df(user_book_rate, reader)\n",
    "data"
   ]
  },
  {
   "cell_type": "code",
   "execution_count": 24,
   "metadata": {},
   "outputs": [],
   "source": [
    "?SVDpp"
   ]
  },
  {
   "cell_type": "code",
   "execution_count": 25,
   "metadata": {},
   "outputs": [
    {
     "data": {
      "text/plain": [
       "<surprise.prediction_algorithms.matrix_factorization.SVDpp at 0x11279bc50>"
      ]
     },
     "execution_count": 25,
     "metadata": {},
     "output_type": "execute_result"
    }
   ],
   "source": [
    "# Do not split the dataset into folds and just return a trainset as is, built from the whole dataset.\n",
    "# Returns: The Trainset.\n",
    "trainset = data.build_full_trainset()\n",
    "# 满秩只有一个解，这个factor代表了什么？\n",
    "algo = SVDpp(n_factors=100,n_epochs=300,lr_all=0.01,reg_all=0.2)\n",
    "algo.fit(trainset)"
   ]
  },
  {
   "cell_type": "code",
   "execution_count": 38,
   "metadata": {},
   "outputs": [
    {
     "data": {
      "text/plain": [
       "array([['ID790145788', 6254, 3.1154469625769927],\n",
       "       ['ID646234447', 5854, 3.1578759344849705],\n",
       "       ['ID646234447', 5676, 3.1578759344849705],\n",
       "       ...,\n",
       "       ['ID257231817', 6397, 1.4268081150497691],\n",
       "       ['ID257231817', 6842, 1.4268081150497691],\n",
       "       ['ID257231817', 7862, 1.4268081150497691]], dtype=object)"
      ]
     },
     "execution_count": 38,
     "metadata": {},
     "output_type": "execute_result"
    }
   ],
   "source": [
    "user_book_rate.values"
   ]
  },
  {
   "cell_type": "code",
   "execution_count": 47,
   "metadata": {},
   "outputs": [
    {
     "data": {
      "text/plain": [
       "0    ID790145788\n",
       "1    ID646234447\n",
       "2    ID646234447\n",
       "3    ID646234447\n",
       "4    ID646234447\n",
       "Name: User ID, dtype: object"
      ]
     },
     "execution_count": 47,
     "metadata": {},
     "output_type": "execute_result"
    }
   ],
   "source": [
    "user_book_rate.iloc[:,0][:5]"
   ]
  },
  {
   "cell_type": "code",
   "execution_count": 52,
   "metadata": {},
   "outputs": [
    {
     "data": {
      "text/plain": [
       "0    6254\n",
       "1    5854\n",
       "2    5676\n",
       "3    7265\n",
       "4    6051\n",
       "Name: User Read Books (2017), dtype: int64"
      ]
     },
     "execution_count": 52,
     "metadata": {},
     "output_type": "execute_result"
    }
   ],
   "source": [
    "user_book_rate.iloc[:,1][:5]"
   ]
  },
  {
   "cell_type": "code",
   "execution_count": 43,
   "metadata": {},
   "outputs": [
    {
     "data": {
      "text/plain": [
       "array([['ID790145788', 6254, 3.1154469625769927],\n",
       "       ['ID646234447', 5854, 3.1578759344849705],\n",
       "       ['ID646234447', 5676, 3.1578759344849705],\n",
       "       ...,\n",
       "       ['ID257231817', 6397, 1.4268081150497691],\n",
       "       ['ID257231817', 6842, 1.4268081150497691],\n",
       "       ['ID257231817', 7862, 1.4268081150497691]], dtype=object)"
      ]
     },
     "execution_count": 43,
     "metadata": {},
     "output_type": "execute_result"
    }
   ],
   "source": [
    "user_book_rate.values"
   ]
  },
  {
   "cell_type": "markdown",
   "metadata": {},
   "source": [
    "** 不能cross_validation,因为每个用户都不一样，shuffle了就等于用用户A来预测用户B的评分，肯定准确率很低**"
   ]
  },
  {
   "cell_type": "code",
   "execution_count": null,
   "metadata": {},
   "outputs": [],
   "source": [
    "y = user_book_rate['Average Rating (2017)']\n",
    "y_predict = []\n",
    "for b in user_book_rate.values:\n",
    "    y_predict.append(algo.predict(b[0], b[1]).est)"
   ]
  },
  {
   "cell_type": "code",
   "execution_count": 65,
   "metadata": {},
   "outputs": [
    {
     "data": {
      "text/plain": [
       "array([3.11544696, 3.15787593, 3.15787593, ..., 1.42680812, 1.42680812,\n",
       "       1.42680812])"
      ]
     },
     "execution_count": 65,
     "metadata": {},
     "output_type": "execute_result"
    }
   ],
   "source": [
    "y.values"
   ]
  },
  {
   "cell_type": "code",
   "execution_count": 67,
   "metadata": {},
   "outputs": [
    {
     "data": {
      "text/plain": [
       "<matplotlib.collections.PathCollection at 0x11962e550>"
      ]
     },
     "execution_count": 67,
     "metadata": {},
     "output_type": "execute_result"
    },
    {
     "data": {
      "image/png": "[encoded data removed]",
      "text/plain": [
       "<Figure size 432x288 with 1 Axes>"
      ]
     },
     "metadata": {},
     "output_type": "display_data"
    }
   ],
   "source": [
    "import matplotlib.pyplot as plt\n",
    "plt.scatter(y_predict, y.values)"
   ]
  },
  {
   "cell_type": "code",
   "execution_count": 62,
   "metadata": {},
   "outputs": [
    {
     "name": "stdout",
     "output_type": "stream",
     "text": [
      "Training MSE: 0.05068062912726949\n"
     ]
    }
   ],
   "source": [
    "from sklearn import metrics\n",
    "print(\"Training MSE:\",metrics.mean_squared_error(y, y_predict))"
   ]
  },
  {
   "cell_type": "markdown",
   "metadata": {},
   "source": [
    "### Conclusion\n",
    "- MSE要比线性模型要大十倍，但是最终在测试集的准确率却高很多\n",
    "- 线性模型中，较少的parameter效果也更好\n",
    "- 在train上MSE太小，过拟合严重，在测试应用时并不好。"
   ]
  },
  {
   "cell_type": "markdown",
   "metadata": {},
   "source": [
    "### test dataset on year 2018"
   ]
  },
  {
   "cell_type": "code",
   "execution_count": 16,
   "metadata": {},
   "outputs": [
    {
     "data": {
      "text/plain": [
       "[['ID790145788', 7180],\n",
       " ['ID646234447', 5729],\n",
       " ['ID646234447', 5279],\n",
       " ['ID646234447', 6242],\n",
       " ['ID646234447', 5519]]"
      ]
     },
     "execution_count": 16,
     "metadata": {},
     "output_type": "execute_result"
    }
   ],
   "source": [
    "test_df = user_data[['User ID', 'User Read Books (2018)']]\n",
    "test_ar = [[a[0], int(b)] for a in test_df.values for b in a[1].split(', ')]\n",
    "test_ar[:5]"
   ]
  },
  {
   "cell_type": "code",
   "execution_count": 17,
   "metadata": {},
   "outputs": [],
   "source": [
    "## final result\n",
    "final_df = user_data[['User ID', 'User Read Books (2017)', 'User Read Books (2018)', 'Average Rating (2017)']]\n",
    "final_ar = [[a[0], (len(a[1].split(', ')) * float(a[3]) + \n",
    "                    sum([algo.predict(a[0], int(b)).est for b in a[2].split(', ')])) / (len(a[1].split(', ')) + len(a[2].split(', ')))] for a in final_df.values]"
   ]
  },
  {
   "cell_type": "markdown",
   "metadata": {},
   "source": [
    "预测的分数：并没有只预测2018年的，而是与2017年的做了融合。"
   ]
  },
  {
   "cell_type": "markdown",
   "metadata": {},
   "source": [
    "$$ \\frac{2017总分+2018总分}{ 2017个数+2018个数 }$$"
   ]
  },
  {
   "cell_type": "code",
   "execution_count": 19,
   "metadata": {},
   "outputs": [
    {
     "data": {
      "text/plain": [
       "[['ID790145788', 3.308435845966358],\n",
       " ['ID646234447', 3.1955635654019736],\n",
       " ['ID86918707', 2.0885072067409145],\n",
       " ['ID404262345', 3.7324888219942545],\n",
       " ['ID267634255', 2.6861696476245935]]"
      ]
     },
     "execution_count": 19,
     "metadata": {},
     "output_type": "execute_result"
    }
   ],
   "source": [
    "final_ar[:5]"
   ]
  },
  {
   "cell_type": "code",
   "execution_count": 21,
   "metadata": {},
   "outputs": [
    {
     "data": {
      "text/html": [
       "<div>\n",
       "<style scoped>\n",
       "    .dataframe tbody tr th:only-of-type {\n",
       "        vertical-align: middle;\n",
       "    }\n",
       "\n",
       "    .dataframe tbody tr th {\n",
       "        vertical-align: top;\n",
       "    }\n",
       "\n",
       "    .dataframe thead th {\n",
       "        text-align: right;\n",
       "    }\n",
       "</style>\n",
       "<table border=\"1\" class=\"dataframe\">\n",
       "  <thead>\n",
       "    <tr style=\"text-align: right;\">\n",
       "      <th></th>\n",
       "      <th>User ID</th>\n",
       "      <th>Average Rating (2018)</th>\n",
       "    </tr>\n",
       "  </thead>\n",
       "  <tbody>\n",
       "    <tr>\n",
       "      <th>0</th>\n",
       "      <td>ID790145788</td>\n",
       "      <td>3.308436</td>\n",
       "    </tr>\n",
       "    <tr>\n",
       "      <th>1</th>\n",
       "      <td>ID646234447</td>\n",
       "      <td>3.195564</td>\n",
       "    </tr>\n",
       "    <tr>\n",
       "      <th>2</th>\n",
       "      <td>ID86918707</td>\n",
       "      <td>2.088507</td>\n",
       "    </tr>\n",
       "    <tr>\n",
       "      <th>3</th>\n",
       "      <td>ID404262345</td>\n",
       "      <td>3.732489</td>\n",
       "    </tr>\n",
       "    <tr>\n",
       "      <th>4</th>\n",
       "      <td>ID267634255</td>\n",
       "      <td>2.686170</td>\n",
       "    </tr>\n",
       "  </tbody>\n",
       "</table>\n",
       "</div>"
      ],
      "text/plain": [
       "       User ID  Average Rating (2018)\n",
       "0  ID790145788               3.308436\n",
       "1  ID646234447               3.195564\n",
       "2   ID86918707               2.088507\n",
       "3  ID404262345               3.732489\n",
       "4  ID267634255               2.686170"
      ]
     },
     "execution_count": 21,
     "metadata": {},
     "output_type": "execute_result"
    }
   ],
   "source": [
    "rel = pd.DataFrame(final_ar, columns=['User ID', 'Average Rating (2018)'])\n",
    "rel.head()"
   ]
  },
  {
   "cell_type": "code",
   "execution_count": 22,
   "metadata": {},
   "outputs": [],
   "source": [
    "# ## save to csv -> submission\n",
    "# rel.to_csv('out.csv', index=False)"
   ]
  },
  {
   "cell_type": "markdown",
   "metadata": {},
   "source": [
    "## SVD与SVD++"
   ]
  },
  {
   "cell_type": "markdown",
   "metadata": {},
   "source": [
    "https://blog.csdn.net/wjmishuai/article/details/71191945"
   ]
  },
  {
   "cell_type": "markdown",
   "metadata": {},
   "source": [
    "#### SVD："
   ]
  },
  {
   "cell_type": "markdown",
   "metadata": {},
   "source": [
    "最为常见的用户给电影评分的场景，我们需要一个数学模型来模拟用户给电影打分的场景，比如对评分进行预测。\n",
    "\n",
    "将评分矩阵U看作是两个矩阵的乘积："
   ]
  },
  {
   "cell_type": "markdown",
   "metadata": {},
   "source": [
    "$u_{xy}$ 可以看作是user x对电影的**隐藏特质y**的热衷程度，而$i_{yz}$可以看作是特质 y 在电影 z中的体现程度。**q 和 p 分别对应了电影和用户在各个隐藏特质上的特征向量。**这个模型里，用户和电影被认为是没有偏好的，是客观无差别的，但这并不是事实。那么上述模型的评分预测公式为："
   ]
  },
  {
   "cell_type": "markdown",
   "metadata": {},
   "source": [
    "<img src='https://upload-images.jianshu.io/upload_images/1825662-558bec2e42b38f90.png'>"
   ]
  },
  {
   "cell_type": "markdown",
   "metadata": {},
   "source": [
    "为了体现用户，电影他们的每个个体的特质都是有差别的，例如某些用户非常挑剔，总是给予很低的评分；或是某部电影拍得奇烂，恶评如潮。为了模拟以上的情况，需要引入 **baseline predictor**.\n",
    "\n",
    "其中 μ 为所有评分基准，$b_i$ 为电影 i 的评分均值相对μ的偏移，$b_u$ 类似。"
   ]
  },
  {
   "cell_type": "markdown",
   "metadata": {},
   "source": [
    "<img src='https://upload-images.jianshu.io/upload_images/1825662-5c6a60bc8a584dca.png'>"
   ]
  },
  {
   "cell_type": "markdown",
   "metadata": {},
   "source": [
    "模型参数$b_i,b_u,q_i,p_u$通过最优化下面这个目标函数获得："
   ]
  },
  {
   "cell_type": "markdown",
   "metadata": {},
   "source": [
    "<img src='https://upload-images.jianshu.io/upload_images/1825662-dc944baad3a10129.png'>"
   ]
  },
  {
   "cell_type": "markdown",
   "metadata": {},
   "source": [
    "#### SVD++"
   ]
  },
  {
   "cell_type": "markdown",
   "metadata": {},
   "source": [
    "某个用户对某个电影进行了评分，那么说明他看过这部电影，那么这样的行为事实上蕴含了一定的信息，因此我们可以这样来理解问题：评分的行为从侧面反映了用户的喜好，可以将这样的反映通过**隐式参数**的形式体现在模型中。\n",
    "\n",
    "其中 $I_u$ 为该用户所评价过的所有电影的集合，$y_j$为隐藏的“评价了电影 j”反映出的个人喜好偏置。将user看过的电影集合作为一个参数，与user vector相加，再与item vector相乘。"
   ]
  },
  {
   "cell_type": "markdown",
   "metadata": {},
   "source": [
    "<img src='https://upload-images.jianshu.io/upload_images/1825662-c5510b3918fc3bbd.png'>"
   ]
  },
  {
   "cell_type": "markdown",
   "metadata": {},
   "source": [
    "- Netflix Prize and SVD 的paper\n",
    "\n",
    "http://buzzard.ups.edu/courses/2014spring/420projects/math420-UPS-spring-2014-gower-netflix-SVD.pdf"
   ]
  },
  {
   "cell_type": "code",
   "execution_count": null,
   "metadata": {},
   "outputs": [],
   "source": []
  }
 ],
 "metadata": {
  "kernelspec": {
   "display_name": "Python 3",
   "language": "python",
   "name": "python3"
  },
  "language_info": {
   "codemirror_mode": {
    "name": "ipython",
    "version": 3
   },
   "file_extension": ".py",
   "mimetype": "text/x-python",
   "name": "python",
   "nbconvert_exporter": "python",
   "pygments_lexer": "ipython3",
   "version": "3.6.5"
  }
 },
 "nbformat": 4,
 "nbformat_minor": 2
}
