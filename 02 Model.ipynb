{
 "cells": [
  {
   "cell_type": "code",
   "execution_count": 1,
   "metadata": {},
   "outputs": [],
   "source": [
    "import numpy as np\n",
    "import pandas as pd\n",
    "from sklearn import datasets, linear_model\n",
    "import matplotlib.pyplot as plt\n",
    "import os\n",
    "%matplotlib inline\n",
    "\n",
    "from sklearn.feature_extraction.text import CountVectorizer\n",
    "from sklearn.feature_extraction.text import TfidfTransformer\n",
    "from sklearn.decomposition import PCA\n",
    "from sklearn.decomposition import NMF"
   ]
  },
  {
   "cell_type": "code",
   "execution_count": 2,
   "metadata": {},
   "outputs": [
    {
     "data": {
      "text/html": [
       "<div>\n",
       "<style scoped>\n",
       "    .dataframe tbody tr th:only-of-type {\n",
       "        vertical-align: middle;\n",
       "    }\n",
       "\n",
       "    .dataframe tbody tr th {\n",
       "        vertical-align: top;\n",
       "    }\n",
       "\n",
       "    .dataframe thead th {\n",
       "        text-align: right;\n",
       "    }\n",
       "</style>\n",
       "<table border=\"1\" class=\"dataframe\">\n",
       "  <thead>\n",
       "    <tr style=\"text-align: right;\">\n",
       "      <th></th>\n",
       "      <th>User ID</th>\n",
       "      <th>User Difficulty Choice</th>\n",
       "      <th>User Read Books (2017)</th>\n",
       "      <th>book contain words (2017)</th>\n",
       "      <th>User Read number (2017)</th>\n",
       "      <th>User Read shop (2017)</th>\n",
       "      <th>User Read price (2017)</th>\n",
       "      <th>User Read genre (2017)</th>\n",
       "      <th>User Read sales (2017)</th>\n",
       "      <th>User Read Words (2017)</th>\n",
       "      <th>...</th>\n",
       "      <th>User Read Books (2018)</th>\n",
       "      <th>book contain words (2018)</th>\n",
       "      <th>User Read number (2018)</th>\n",
       "      <th>User Read shop (2018)</th>\n",
       "      <th>User Read price (2018)</th>\n",
       "      <th>User Read genre (2018)</th>\n",
       "      <th>User Read sales (2018)</th>\n",
       "      <th>User Read Words (2018)</th>\n",
       "      <th>User Read Difficulty (2018)</th>\n",
       "      <th>Average Rating (2017)</th>\n",
       "    </tr>\n",
       "  </thead>\n",
       "  <tbody>\n",
       "    <tr>\n",
       "      <th>0</th>\n",
       "      <td>ID790145788</td>\n",
       "      <td>1.0</td>\n",
       "      <td>6254</td>\n",
       "      <td>['3368', '6030', '5392', '4091', '1495', '2018...</td>\n",
       "      <td>1</td>\n",
       "      <td>PythonBooks</td>\n",
       "      <td>6.0</td>\n",
       "      <td>17</td>\n",
       "      <td>6</td>\n",
       "      <td>9</td>\n",
       "      <td>...</td>\n",
       "      <td>7180</td>\n",
       "      <td>['5611', '4201', '3996', '2934', '140', '2036'...</td>\n",
       "      <td>1</td>\n",
       "      <td>DHC-Online</td>\n",
       "      <td>1.0</td>\n",
       "      <td>18</td>\n",
       "      <td>3</td>\n",
       "      <td>1</td>\n",
       "      <td>1</td>\n",
       "      <td>3.115447</td>\n",
       "    </tr>\n",
       "    <tr>\n",
       "      <th>1</th>\n",
       "      <td>ID646234447</td>\n",
       "      <td>0.0</td>\n",
       "      <td>5854, 5676, 7265, 6051</td>\n",
       "      <td>['4602', '8051', '2572', '1107', '489', '5096'...</td>\n",
       "      <td>4</td>\n",
       "      <td>EduBooks, PythonBooks, Level 5 Daniel Shop, Le...</td>\n",
       "      <td>1.0, 3.0, 8.0, 7.0</td>\n",
       "      <td>0, 0, 0, 21</td>\n",
       "      <td>6, 4, 5, 1</td>\n",
       "      <td>2, 8, 6, 5</td>\n",
       "      <td>...</td>\n",
       "      <td>5729, 5279, 6242, 5519, 5251</td>\n",
       "      <td>['5418', '398', '2572', '6716', '2202', '4454'...</td>\n",
       "      <td>5</td>\n",
       "      <td>PythonBooks, Level 5 Daniel Shop, Level 5 Dani...</td>\n",
       "      <td>5.0, 5.0, 8.0, 8.0, 1.0</td>\n",
       "      <td>21, 21, 16, 16, 16</td>\n",
       "      <td>6, 3, 0, 1, 3</td>\n",
       "      <td>1, 4, 3, 9, 1</td>\n",
       "      <td>1, 5, 1, 1, 4</td>\n",
       "      <td>3.157876</td>\n",
       "    </tr>\n",
       "    <tr>\n",
       "      <th>2</th>\n",
       "      <td>ID86918707</td>\n",
       "      <td>5.0</td>\n",
       "      <td>5815</td>\n",
       "      <td>['7064', '4813', '489', '5611', '71', '3122', ...</td>\n",
       "      <td>1</td>\n",
       "      <td>Daniel's Bookshop</td>\n",
       "      <td>5.0</td>\n",
       "      <td>4</td>\n",
       "      <td>6</td>\n",
       "      <td>0</td>\n",
       "      <td>...</td>\n",
       "      <td>6372, 6697</td>\n",
       "      <td>['4377', '1389', '633', '3524', '3606', '1381'...</td>\n",
       "      <td>2</td>\n",
       "      <td>DHC-Online, EduBooks</td>\n",
       "      <td>3.0, 2.0</td>\n",
       "      <td>4, 4</td>\n",
       "      <td>1, 9</td>\n",
       "      <td>6, 3</td>\n",
       "      <td>4, 4</td>\n",
       "      <td>1.512284</td>\n",
       "    </tr>\n",
       "    <tr>\n",
       "      <th>3</th>\n",
       "      <td>ID404262345</td>\n",
       "      <td>2.0</td>\n",
       "      <td>6969, 7002, 5761</td>\n",
       "      <td>['5011', '4546', '6419', '2018', '4680', '7302...</td>\n",
       "      <td>3</td>\n",
       "      <td>EduBooks, PythonBooks, EduBooks</td>\n",
       "      <td>5.0, 2.0, 0.0</td>\n",
       "      <td>19, 19, 17</td>\n",
       "      <td>0, 5, 0</td>\n",
       "      <td>7, 7, 2</td>\n",
       "      <td>...</td>\n",
       "      <td>5023, 6412, 6124</td>\n",
       "      <td>['4984', '5004', '8133', '5418', '8090', '8080...</td>\n",
       "      <td>3</td>\n",
       "      <td>EduBooks, PythonBooks, DHC-Online</td>\n",
       "      <td>4.0, 2.0, 8.0</td>\n",
       "      <td>17, 4, 4</td>\n",
       "      <td>6, 8, 0</td>\n",
       "      <td>7, 9, 3</td>\n",
       "      <td>2, 5, 5</td>\n",
       "      <td>3.641681</td>\n",
       "    </tr>\n",
       "    <tr>\n",
       "      <th>4</th>\n",
       "      <td>ID267634255</td>\n",
       "      <td>4.0</td>\n",
       "      <td>7908, 7585, 7655, 5013, 5352, 7753, 5793</td>\n",
       "      <td>['5035', '1838', '3524', '7466', '7911', '6356...</td>\n",
       "      <td>7</td>\n",
       "      <td>Level 5 Daniel Shop, Level 5 Daniel Shop, Leve...</td>\n",
       "      <td>6.0, 9.0, 1.0, 1.0, 3.0, 5.0, 8.0</td>\n",
       "      <td>14, 14, 14, 14, 14, 29, 29</td>\n",
       "      <td>5, 4, 3, 3, 4, 1, 2</td>\n",
       "      <td>7, 1, 8, 6, 5, 0, 0</td>\n",
       "      <td>...</td>\n",
       "      <td>7915, 7884, 7404, 6022, 6589, 6543, 5450, 6848</td>\n",
       "      <td>['5187', '4749', '8076', '6127', '5863', '5418...</td>\n",
       "      <td>8</td>\n",
       "      <td>EduBooks, EduBooks, EduBooks, DHC-Online, DHC-...</td>\n",
       "      <td>1.0, 8.0, 9.0, 1.0, 6.0, 8.0, 6.0, 8.0</td>\n",
       "      <td>29, 29, 29, 25, 25, 25, 25, 25</td>\n",
       "      <td>9, 9, 8, 7, 8, 2, 8, 9</td>\n",
       "      <td>7, 3, 4, 2, 7, 5, 2, 5</td>\n",
       "      <td>1, 4, 4, 3, 1, 1, 1, 2</td>\n",
       "      <td>2.506743</td>\n",
       "    </tr>\n",
       "  </tbody>\n",
       "</table>\n",
       "<p>5 rows × 21 columns</p>\n",
       "</div>"
      ],
      "text/plain": [
       "       User ID  User Difficulty Choice  \\\n",
       "0  ID790145788                     1.0   \n",
       "1  ID646234447                     0.0   \n",
       "2   ID86918707                     5.0   \n",
       "3  ID404262345                     2.0   \n",
       "4  ID267634255                     4.0   \n",
       "\n",
       "                     User Read Books (2017)  \\\n",
       "0                                      6254   \n",
       "1                    5854, 5676, 7265, 6051   \n",
       "2                                      5815   \n",
       "3                          6969, 7002, 5761   \n",
       "4  7908, 7585, 7655, 5013, 5352, 7753, 5793   \n",
       "\n",
       "                           book contain words (2017)  User Read number (2017)  \\\n",
       "0  ['3368', '6030', '5392', '4091', '1495', '2018...                        1   \n",
       "1  ['4602', '8051', '2572', '1107', '489', '5096'...                        4   \n",
       "2  ['7064', '4813', '489', '5611', '71', '3122', ...                        1   \n",
       "3  ['5011', '4546', '6419', '2018', '4680', '7302...                        3   \n",
       "4  ['5035', '1838', '3524', '7466', '7911', '6356...                        7   \n",
       "\n",
       "                               User Read shop (2017)  \\\n",
       "0                                        PythonBooks   \n",
       "1  EduBooks, PythonBooks, Level 5 Daniel Shop, Le...   \n",
       "2                                  Daniel's Bookshop   \n",
       "3                    EduBooks, PythonBooks, EduBooks   \n",
       "4  Level 5 Daniel Shop, Level 5 Daniel Shop, Leve...   \n",
       "\n",
       "              User Read price (2017)      User Read genre (2017)  \\\n",
       "0                                6.0                          17   \n",
       "1                 1.0, 3.0, 8.0, 7.0                 0, 0, 0, 21   \n",
       "2                                5.0                           4   \n",
       "3                      5.0, 2.0, 0.0                  19, 19, 17   \n",
       "4  6.0, 9.0, 1.0, 1.0, 3.0, 5.0, 8.0  14, 14, 14, 14, 14, 29, 29   \n",
       "\n",
       "  User Read sales (2017) User Read Words (2017)          ...           \\\n",
       "0                      6                      9          ...            \n",
       "1             6, 4, 5, 1             2, 8, 6, 5          ...            \n",
       "2                      6                      0          ...            \n",
       "3                0, 5, 0                7, 7, 2          ...            \n",
       "4    5, 4, 3, 3, 4, 1, 2    7, 1, 8, 6, 5, 0, 0          ...            \n",
       "\n",
       "                           User Read Books (2018)  \\\n",
       "0                                            7180   \n",
       "1                    5729, 5279, 6242, 5519, 5251   \n",
       "2                                      6372, 6697   \n",
       "3                                5023, 6412, 6124   \n",
       "4  7915, 7884, 7404, 6022, 6589, 6543, 5450, 6848   \n",
       "\n",
       "                           book contain words (2018) User Read number (2018)  \\\n",
       "0  ['5611', '4201', '3996', '2934', '140', '2036'...                       1   \n",
       "1  ['5418', '398', '2572', '6716', '2202', '4454'...                       5   \n",
       "2  ['4377', '1389', '633', '3524', '3606', '1381'...                       2   \n",
       "3  ['4984', '5004', '8133', '5418', '8090', '8080...                       3   \n",
       "4  ['5187', '4749', '8076', '6127', '5863', '5418...                       8   \n",
       "\n",
       "                               User Read shop (2018)  \\\n",
       "0                                         DHC-Online   \n",
       "1  PythonBooks, Level 5 Daniel Shop, Level 5 Dani...   \n",
       "2                               DHC-Online, EduBooks   \n",
       "3                  EduBooks, PythonBooks, DHC-Online   \n",
       "4  EduBooks, EduBooks, EduBooks, DHC-Online, DHC-...   \n",
       "\n",
       "                   User Read price (2018)          User Read genre (2018)  \\\n",
       "0                                     1.0                              18   \n",
       "1                 5.0, 5.0, 8.0, 8.0, 1.0              21, 21, 16, 16, 16   \n",
       "2                                3.0, 2.0                            4, 4   \n",
       "3                           4.0, 2.0, 8.0                        17, 4, 4   \n",
       "4  1.0, 8.0, 9.0, 1.0, 6.0, 8.0, 6.0, 8.0  29, 29, 29, 25, 25, 25, 25, 25   \n",
       "\n",
       "   User Read sales (2018)  User Read Words (2018) User Read Difficulty (2018)  \\\n",
       "0                       3                       1                           1   \n",
       "1           6, 3, 0, 1, 3           1, 4, 3, 9, 1               1, 5, 1, 1, 4   \n",
       "2                    1, 9                    6, 3                        4, 4   \n",
       "3                 6, 8, 0                 7, 9, 3                     2, 5, 5   \n",
       "4  9, 9, 8, 7, 8, 2, 8, 9  7, 3, 4, 2, 7, 5, 2, 5      1, 4, 4, 3, 1, 1, 1, 2   \n",
       "\n",
       "  Average Rating (2017)  \n",
       "0              3.115447  \n",
       "1              3.157876  \n",
       "2              1.512284  \n",
       "3              3.641681  \n",
       "4              2.506743  \n",
       "\n",
       "[5 rows x 21 columns]"
      ]
     },
     "execution_count": 2,
     "metadata": {},
     "output_type": "execute_result"
    }
   ],
   "source": [
    "data = pd.read_csv('User Data Processed.csv')\n",
    "data.head()"
   ]
  },
  {
   "cell_type": "code",
   "execution_count": 49,
   "metadata": {},
   "outputs": [
    {
     "data": {
      "text/plain": [
       "str"
      ]
     },
     "execution_count": 49,
     "metadata": {},
     "output_type": "execute_result"
    }
   ],
   "source": [
    "type(data['User Read price (2017)'][0])"
   ]
  },
  {
   "cell_type": "code",
   "execution_count": 51,
   "metadata": {},
   "outputs": [],
   "source": [
    "# 每个用户对应不止1个price，genre，read books等，要\n",
    "from scipy.sparse import csr_matrix\n",
    "def one_hotted(colomn_name):\n",
    "    result = data[colomn_name].astype(str).str.split(', ')\n",
    "    counter = CountVectorizer(lowercase=False, tokenizer= lambda x: x)\n",
    "    counter.fit(result)\n",
    "    # CountVector之后得到的是稀疏矩阵，要todense转成稠密形式\n",
    "    result = counter.transform(result).todense()\n",
    "    # result[result>1] = 1\n",
    "    print('column name:'+ str(column_name)+'\\n'+'result.shape='+str(result.shape))\n",
    "    return result"
   ]
  },
  {
   "cell_type": "code",
   "execution_count": 64,
   "metadata": {
    "collapsed": true
   },
   "outputs": [
    {
     "name": "stdout",
     "output_type": "stream",
     "text": [
      "column name:User Read shop (2017)\n",
      "result.shape=(10000, 31)\n"
     ]
    },
    {
     "data": {
      "text/plain": [
       "matrix([[0, 0, 0, ..., 0, 0, 0],\n",
       "        [3, 0, 0, ..., 0, 0, 0],\n",
       "        [0, 0, 0, ..., 0, 0, 0],\n",
       "        ...,\n",
       "        [0, 0, 0, ..., 0, 0, 0],\n",
       "        [0, 0, 0, ..., 0, 0, 0],\n",
       "        [0, 0, 0, ..., 0, 0, 0]])"
      ]
     },
     "execution_count": 64,
     "metadata": {},
     "output_type": "execute_result"
    }
   ],
   "source": [
    "result = data['User Read genre (2017)'].astype(str).str.split(', ')\n",
    "counter = CountVectorizer(lowercase=False, tokenizer= lambda x: x)\n",
    "counter.fit(result)\n",
    "# CountVector之后得到的是稀疏矩阵，要todense转成稠密形式\n",
    "result = counter.transform(result).todense()\n",
    "#     result[result>1] = 1\n",
    "print('column name:'+ str('User Read shop (2017)')+'\\n'+'result.shape='+str(result.shape))\n",
    "result"
   ]
  },
  {
   "cell_type": "code",
   "execution_count": 69,
   "metadata": {},
   "outputs": [],
   "source": [
    "# start one hottlize\n",
    "user_choice = one_hotted('User Difficulty Choice')\n",
    "\n",
    "user_slaes_2017 = one_hotted('User Read sales (2017)')\n",
    "user_words_2017 = one_hotted('User Read Words (2017)')\n",
    "user_difficulty_2017 = one_hotted('User Read Difficulty (2017)')\n",
    "user_genre_2017 = one_hotted('User Read genre (2017)')\n",
    "user_price_2017 = one_hotted('User Read price (2017)')\n",
    "user_shop_2017 = one_hotted('User Read shop (2017)')\n",
    "user_num_2017 = one_hotted('User Read number (2017)')\n",
    "user_books_2017 = one_hotted('User Read Books (2017)')\n",
    "# book_words_2017 = one_hotted('book contain words (2017)')\n",
    "\n",
    "user_slaes_2018 = one_hotted('User Read sales (2018)')\n",
    "user_words_2018 = one_hotted('User Read Words (2018)')\n",
    "user_difficulty_2018 = one_hotted('User Read Difficulty (2018)')\n",
    "user_genre_2018 = one_hotted('User Read genre (2018)')\n",
    "user_price_2018 = one_hotted('User Read price (2018)')\n",
    "user_shop_2018 = one_hotted('User Read shop (2018)')\n",
    "user_num_2018 = one_hotted('User Read number (2018)')\n",
    "user_books_2018 = one_hotted('User Read Books (2018)')\n",
    "# book_words_2018 = one_hotted('book contain words (2018)')"
   ]
  },
  {
   "cell_type": "markdown",
   "metadata": {},
   "source": [
    "### Y_lable"
   ]
  },
  {
   "cell_type": "code",
   "execution_count": 70,
   "metadata": {},
   "outputs": [],
   "source": [
    "# total score that every reader gives\n",
    "books2017 = data['User Read Books (2017)']\n",
    "splits2017 = books2017.str.split(', ')\n",
    "n2017 = splits2017.str.len()\n",
    "y = data['Average Rating (2017)']\n",
    "Y = y*n2017"
   ]
  },
  {
   "cell_type": "markdown",
   "metadata": {},
   "source": [
    "### X_lable"
   ]
  },
  {
   "cell_type": "code",
   "execution_count": 73,
   "metadata": {},
   "outputs": [
    {
     "data": {
      "text/plain": [
       "(10000, 10086)"
      ]
     },
     "execution_count": 73,
     "metadata": {},
     "output_type": "execute_result"
    }
   ],
   "source": [
    "X = np.hstack((\n",
    "    user_choice, # 6 colomns\n",
    "    user_slaes_2017,# 10 colomns\n",
    "    user_words_2017,# 10 colomns\n",
    "    user_difficulty_2017, #5 colomns\n",
    "    user_genre_2017, #31 colomns\n",
    "    user_price_2017, # 11 colomns\n",
    "    user_shop_2017, # 5 colomns\n",
    "    user_num_2017, # 8 colomns\n",
    "    np.eye(len(data)) # 10000 colomns\n",
    "))\n",
    "X.shape"
   ]
  },
  {
   "cell_type": "code",
   "execution_count": 74,
   "metadata": {},
   "outputs": [],
   "source": [
    "# 稀疏化表示\n",
    "# IMPORTANT！ to speed up\n",
    "X = csr_matrix(X)"
   ]
  },
  {
   "cell_type": "markdown",
   "metadata": {},
   "source": [
    "## Linear Regression"
   ]
  },
  {
   "cell_type": "code",
   "execution_count": 79,
   "metadata": {},
   "outputs": [
    {
     "data": {
      "text/plain": [
       "LinearRegression(copy_X=True, fit_intercept=True, n_jobs=1, normalize=True)"
      ]
     },
     "execution_count": 79,
     "metadata": {},
     "output_type": "execute_result"
    }
   ],
   "source": [
    "from sklearn.linear_model import LinearRegression\n",
    "linreg = LinearRegression(normalize=True)\n",
    "linreg.fit(X, Y)"
   ]
  },
  {
   "cell_type": "code",
   "execution_count": 80,
   "metadata": {},
   "outputs": [
    {
     "data": {
      "text/plain": [
       "<matplotlib.collections.PathCollection at 0x1561cf518>"
      ]
     },
     "execution_count": 80,
     "metadata": {},
     "output_type": "execute_result"
    },
    {
     "data": {
      "image/png": "[encoded data removed]",
      "text/plain": [
       "<Figure size 432x288 with 1 Axes>"
      ]
     },
     "metadata": {},
     "output_type": "display_data"
    }
   ],
   "source": [
    "y_preds = linreg.predict(X)\n",
    "plt.scatter(y_preds, Y)"
   ]
  },
  {
   "cell_type": "code",
   "execution_count": 81,
   "metadata": {},
   "outputs": [
    {
     "data": {
      "text/plain": [
       "array([ -1.09403392,  -1.14193325,  -1.01450309, ...,  -3.2580141 ,\n",
       "        -3.89601838, -11.02097864])"
      ]
     },
     "execution_count": 81,
     "metadata": {},
     "output_type": "execute_result"
    }
   ],
   "source": [
    "linreg.coef_"
   ]
  },
  {
   "cell_type": "code",
   "execution_count": 82,
   "metadata": {},
   "outputs": [
    {
     "data": {
      "text/plain": [
       "(10086,)"
      ]
     },
     "execution_count": 82,
     "metadata": {},
     "output_type": "execute_result"
    }
   ],
   "source": [
    "linreg.coef_.shape"
   ]
  },
  {
   "cell_type": "markdown",
   "metadata": {},
   "source": [
    "### 很严重的问题啊 。。。 这么多的参数，就很难确定是谁的参数。从而很难针对如何提升评分给出意见"
   ]
  },
  {
   "cell_type": "markdown",
   "metadata": {},
   "source": [
    "### evaluate"
   ]
  },
  {
   "cell_type": "code",
   "execution_count": 85,
   "metadata": {},
   "outputs": [
    {
     "name": "stdout",
     "output_type": "stream",
     "text": [
      "Training MSE: 1.8202152626304183e-13\n"
     ]
    }
   ],
   "source": [
    "from sklearn import metrics\n",
    "print(\"Training MSE:\",metrics.mean_squared_error(Y, y_preds))\n",
    "# print(\"Test MSE:\",metrics.mean_squared_error(Y, y_preds))"
   ]
  },
  {
   "cell_type": "markdown",
   "metadata": {},
   "source": [
    "- 如果加上words in book的话，MSE会变高：6.466772429739825e-11\n",
    "- MSE是10的-13次方，这也太小了吧，很可能过拟合"
   ]
  },
  {
   "cell_type": "markdown",
   "metadata": {},
   "source": [
    "## XGBoost"
   ]
  },
  {
   "cell_type": "code",
   "execution_count": 88,
   "metadata": {},
   "outputs": [
    {
     "data": {
      "text/plain": [
       "<matplotlib.collections.PathCollection at 0x155e9f0f0>"
      ]
     },
     "execution_count": 88,
     "metadata": {},
     "output_type": "execute_result"
    },
    {
     "data": {
      "image/png": "[encoded data removed]",
      "text/plain": [
       "<Figure size 432x288 with 1 Axes>"
      ]
     },
     "metadata": {},
     "output_type": "display_data"
    }
   ],
   "source": [
    "import xgboost\n",
    "xgb = xgboost.XGBRegressor(n_estimators=1000, learning_rate=0.008, gamma=0, subsample=0.75,\n",
    "                           colsample_bytree=1, max_depth=17)\n",
    "xgb.fit(X,Y)\n",
    "y_preds = xgb.predict(X)\n",
    "plt.scatter(y_preds, Y)"
   ]
  },
  {
   "cell_type": "code",
   "execution_count": 96,
   "metadata": {},
   "outputs": [
    {
     "data": {
      "text/plain": [
       "<matplotlib.axes._subplots.AxesSubplot at 0x182b87fd0>"
      ]
     },
     "execution_count": 96,
     "metadata": {},
     "output_type": "execute_result"
    },
    {
     "data": {
      "image/png": "[encoded data removed]",
      "text/plain": [
       "<Figure size 432x288 with 1 Axes>"
      ]
     },
     "metadata": {},
     "output_type": "display_data"
    }
   ],
   "source": [
    "from xgboost import plot_importance\n",
    "plot_importance(xgb,max_num_features=10)"
   ]
  },
  {
   "cell_type": "code",
   "execution_count": 94,
   "metadata": {},
   "outputs": [
    {
     "name": "stdout",
     "output_type": "stream",
     "text": [
      "Training MSE: 2.059626503928894\n"
     ]
    }
   ],
   "source": [
    "from sklearn import metrics\n",
    "print(\"Training MSE:\",metrics.mean_squared_error(Y, y_preds))"
   ]
  },
  {
   "cell_type": "markdown",
   "metadata": {},
   "source": [
    "- 如果加上bag of words的话，MSE = 8.39411312351703\n",
    "- estimators=500,MSE = 4.807318838801582\n",
    "- input dimension多未必好"
   ]
  },
  {
   "cell_type": "markdown",
   "metadata": {},
   "source": [
    "## 模型融合！！！"
   ]
  },
  {
   "cell_type": "markdown",
   "metadata": {},
   "source": [
    "### 用上述训练好的2017年的模型，去predict2018年的评分"
   ]
  },
  {
   "cell_type": "code",
   "execution_count": 90,
   "metadata": {},
   "outputs": [
    {
     "data": {
      "text/plain": [
       "(10000, 10086)"
      ]
     },
     "execution_count": 90,
     "metadata": {},
     "output_type": "execute_result"
    }
   ],
   "source": [
    "TEST = np.hstack((\n",
    "    user_choice,\n",
    "    user_slaes_2018,\n",
    "    user_words_2018,\n",
    "    user_difficulty_2018,\n",
    "    user_genre_2018,\n",
    "    user_price_2018,\n",
    "    user_shop_2018,\n",
    "    user_num_2018,\n",
    "    np.eye(len(data))\n",
    "))\n",
    "TEST.shape\n",
    "# 与2017年的feature矩阵大小一样"
   ]
  },
  {
   "cell_type": "code",
   "execution_count": 91,
   "metadata": {},
   "outputs": [
    {
     "data": {
      "text/plain": [
       "array([ 2.80148266, 15.37146381,  4.76099314, ...,  5.59882631,\n",
       "        8.17587299, 12.14816309])"
      ]
     },
     "execution_count": 91,
     "metadata": {},
     "output_type": "execute_result"
    }
   ],
   "source": [
    "y_submission = linreg.predict(TEST)\n",
    "y_submission"
   ]
  },
  {
   "cell_type": "markdown",
   "metadata": {},
   "source": [
    "### 统一分数区间"
   ]
  },
  {
   "cell_type": "code",
   "execution_count": 92,
   "metadata": {},
   "outputs": [],
   "source": [
    "y_submission[y_submission > 10] = 10\n",
    "y_submission[y_submission < 0] = 0"
   ]
  },
  {
   "cell_type": "markdown",
   "metadata": {},
   "source": [
    "### 整理成提交的格式"
   ]
  },
  {
   "cell_type": "code",
   "execution_count": 93,
   "metadata": {},
   "outputs": [
    {
     "data": {
      "text/html": [
       "<div>\n",
       "<style scoped>\n",
       "    .dataframe tbody tr th:only-of-type {\n",
       "        vertical-align: middle;\n",
       "    }\n",
       "\n",
       "    .dataframe tbody tr th {\n",
       "        vertical-align: top;\n",
       "    }\n",
       "\n",
       "    .dataframe thead th {\n",
       "        text-align: right;\n",
       "    }\n",
       "</style>\n",
       "<table border=\"1\" class=\"dataframe\">\n",
       "  <thead>\n",
       "    <tr style=\"text-align: right;\">\n",
       "      <th></th>\n",
       "      <th>User ID</th>\n",
       "      <th>Average Rating (2018)</th>\n",
       "    </tr>\n",
       "  </thead>\n",
       "  <tbody>\n",
       "    <tr>\n",
       "      <th>0</th>\n",
       "      <td>ID790145788</td>\n",
       "      <td>2.801483</td>\n",
       "    </tr>\n",
       "    <tr>\n",
       "      <th>1</th>\n",
       "      <td>ID646234447</td>\n",
       "      <td>10.000000</td>\n",
       "    </tr>\n",
       "    <tr>\n",
       "      <th>2</th>\n",
       "      <td>ID86918707</td>\n",
       "      <td>4.760993</td>\n",
       "    </tr>\n",
       "    <tr>\n",
       "      <th>3</th>\n",
       "      <td>ID404262345</td>\n",
       "      <td>10.000000</td>\n",
       "    </tr>\n",
       "    <tr>\n",
       "      <th>4</th>\n",
       "      <td>ID267634255</td>\n",
       "      <td>10.000000</td>\n",
       "    </tr>\n",
       "  </tbody>\n",
       "</table>\n",
       "</div>"
      ],
      "text/plain": [
       "       User ID  Average Rating (2018)\n",
       "0  ID790145788               2.801483\n",
       "1  ID646234447              10.000000\n",
       "2   ID86918707               4.760993\n",
       "3  ID404262345              10.000000\n",
       "4  ID267634255              10.000000"
      ]
     },
     "execution_count": 93,
     "metadata": {},
     "output_type": "execute_result"
    }
   ],
   "source": [
    "data['Average Rating (2018)'] = y_submission\n",
    "output = data[['User ID', 'Average Rating (2018)']]\n",
    "output.head()\n",
    "#output.to_csv('submission_11.csv', sep=',', index=False)"
   ]
  },
  {
   "cell_type": "code",
   "execution_count": null,
   "metadata": {},
   "outputs": [],
   "source": []
  }
 ],
 "metadata": {
  "kernelspec": {
   "display_name": "Python 3",
   "language": "python",
   "name": "python3"
  },
  "language_info": {
   "codemirror_mode": {
    "name": "ipython",
    "version": 3
   },
   "file_extension": ".py",
   "mimetype": "text/x-python",
   "name": "python",
   "nbconvert_exporter": "python",
   "pygments_lexer": "ipython3",
   "version": "3.6.5"
  }
 },
 "nbformat": 4,
 "nbformat_minor": 2
}
